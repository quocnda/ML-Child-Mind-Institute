{
 "cells": [
  {
   "cell_type": "markdown",
   "id": "3e3a88b6",
   "metadata": {
    "papermill": {
     "duration": 0.003643,
     "end_time": "2024-12-04T10:24:16.404867",
     "exception": false,
     "start_time": "2024-12-04T10:24:16.401224",
     "status": "completed"
    },
    "tags": []
   },
   "source": [
    "# Initial\n"
   ]
  },
  {
   "cell_type": "code",
   "execution_count": 1,
   "id": "6b5ba9af",
   "metadata": {
    "execution": {
     "iopub.execute_input": "2024-12-04T10:24:16.412612Z",
     "iopub.status.busy": "2024-12-04T10:24:16.412214Z",
     "iopub.status.idle": "2024-12-04T10:24:16.417879Z",
     "shell.execute_reply": "2024-12-04T10:24:16.416732Z"
    },
    "papermill": {
     "duration": 0.012366,
     "end_time": "2024-12-04T10:24:16.420351",
     "exception": false,
     "start_time": "2024-12-04T10:24:16.407985",
     "status": "completed"
    },
    "tags": []
   },
   "outputs": [],
   "source": [
    "# import pandas as pd\n",
    "\n",
    "# root_path = '/kaggle/input/child-mind-institute-problematic-internet-use/'\n",
    "# data_train = pd.read_csv(f'{root_path}/train.csv')\n",
    "# data_test = pd.read_csv(f'{root_path}/test.csv')\n",
    "\n"
   ]
  },
  {
   "cell_type": "markdown",
   "id": "bf8bc2af",
   "metadata": {
    "papermill": {
     "duration": 0.002841,
     "end_time": "2024-12-04T10:24:16.426613",
     "exception": false,
     "start_time": "2024-12-04T10:24:16.423772",
     "status": "completed"
    },
    "tags": []
   },
   "source": [
    "# Data Preprocessing"
   ]
  },
  {
   "cell_type": "code",
   "execution_count": 2,
   "id": "23d06034",
   "metadata": {
    "execution": {
     "iopub.execute_input": "2024-12-04T10:24:16.434421Z",
     "iopub.status.busy": "2024-12-04T10:24:16.434072Z",
     "iopub.status.idle": "2024-12-04T10:24:16.438703Z",
     "shell.execute_reply": "2024-12-04T10:24:16.437710Z"
    },
    "papermill": {
     "duration": 0.010986,
     "end_time": "2024-12-04T10:24:16.440587",
     "exception": false,
     "start_time": "2024-12-04T10:24:16.429601",
     "status": "completed"
    },
    "tags": []
   },
   "outputs": [],
   "source": [
    "# from sklearn.preprocessing import LabelEncoder\n",
    "# def handle_data_classifier(data):\n",
    "#     df_encoded = data.copy()\n",
    "#     for column in df_encoded.columns:\n",
    "#         if df_encoded[column].dtype == 'object' or df_encoded[column].dtype.name == 'category':\n",
    "#             le = LabelEncoder()\n",
    "#             df_encoded[column] = le.fit_transform(df_encoded[column].astype(str))\n",
    "#         if df_encoded[column].dtype in ['int64', 'float64']: \n",
    "#             df_encoded[column].fillna(df_encoded[column].mean(), inplace=True)\n",
    "#     return df_encoded"
   ]
  },
  {
   "cell_type": "code",
   "execution_count": 3,
   "id": "fa6553ff",
   "metadata": {
    "execution": {
     "iopub.execute_input": "2024-12-04T10:24:16.448143Z",
     "iopub.status.busy": "2024-12-04T10:24:16.447793Z",
     "iopub.status.idle": "2024-12-04T10:24:16.452326Z",
     "shell.execute_reply": "2024-12-04T10:24:16.451371Z"
    },
    "papermill": {
     "duration": 0.010653,
     "end_time": "2024-12-04T10:24:16.454306",
     "exception": false,
     "start_time": "2024-12-04T10:24:16.443653",
     "status": "completed"
    },
    "tags": []
   },
   "outputs": [],
   "source": [
    "# print(data_test.columns)\n",
    "# same_columns = list(set(data_train.columns).intersection(set(data_test.columns)))\n",
    "# same_columns.remove('id')\n",
    "# # drop row which dont have sii\n",
    "# data_train = data_train[~data_train['sii'].isna()]\n",
    "# print(data_train.columns)\n",
    "# data_train = data_train.drop(columns=['id'])\n",
    "# data_X = data_train[same_columns]\n",
    "# data_y = data_train['sii']\n",
    "# print(len(data_X.columns))\n",
    "# # handle data which category type and Nan value\n",
    "# data_X = handle_data_classifier(data_X)\n",
    "\n"
   ]
  },
  {
   "cell_type": "markdown",
   "id": "88c3b1e8",
   "metadata": {
    "papermill": {
     "duration": 0.002837,
     "end_time": "2024-12-04T10:24:16.460266",
     "exception": false,
     "start_time": "2024-12-04T10:24:16.457429",
     "status": "completed"
    },
    "tags": []
   },
   "source": [
    "# Train and test model"
   ]
  },
  {
   "cell_type": "code",
   "execution_count": 4,
   "id": "7734439d",
   "metadata": {
    "execution": {
     "iopub.execute_input": "2024-12-04T10:24:16.468065Z",
     "iopub.status.busy": "2024-12-04T10:24:16.467325Z",
     "iopub.status.idle": "2024-12-04T10:24:16.471684Z",
     "shell.execute_reply": "2024-12-04T10:24:16.470704Z"
    },
    "papermill": {
     "duration": 0.01031,
     "end_time": "2024-12-04T10:24:16.473531",
     "exception": false,
     "start_time": "2024-12-04T10:24:16.463221",
     "status": "completed"
    },
    "tags": []
   },
   "outputs": [],
   "source": [
    "# from sklearn.model_selection import train_test_split\n",
    "# X_train, X_test, y_train, y_test = train_test_split(data_X, data_y, test_size=0.2, random_state=42)\n",
    "# # X_train.columns"
   ]
  },
  {
   "cell_type": "code",
   "execution_count": 5,
   "id": "1a95831f",
   "metadata": {
    "execution": {
     "iopub.execute_input": "2024-12-04T10:24:16.481760Z",
     "iopub.status.busy": "2024-12-04T10:24:16.480930Z",
     "iopub.status.idle": "2024-12-04T10:24:16.485803Z",
     "shell.execute_reply": "2024-12-04T10:24:16.484594Z"
    },
    "papermill": {
     "duration": 0.011359,
     "end_time": "2024-12-04T10:24:16.487986",
     "exception": false,
     "start_time": "2024-12-04T10:24:16.476627",
     "status": "completed"
    },
    "tags": []
   },
   "outputs": [],
   "source": [
    "# from sklearn.ensemble import RandomForestClassifier\n",
    "# from sklearn.metrics import accuracy_score\n",
    "# from sklearn.preprocessing import MinMaxScaler\n",
    "\n",
    "# scaler = MinMaxScaler()\n",
    "# scaler.fit(X_train)\n",
    "# X_train = scaler.transform(X_train)\n",
    "# X_test = scaler.transform(X_test)\n",
    "# model = RandomForestClassifier()\n",
    "# model.fit(X_train, y_train)\n",
    "\n",
    "# # Dự đoán và đánh giá\n",
    "# y_pred = model.predict(X_test)\n",
    "# print(\"Accuracy:\", accuracy_score(y_test, y_pred))"
   ]
  },
  {
   "cell_type": "markdown",
   "id": "364ad7c2",
   "metadata": {
    "papermill": {
     "duration": 0.002866,
     "end_time": "2024-12-04T10:24:16.494276",
     "exception": false,
     "start_time": "2024-12-04T10:24:16.491410",
     "status": "completed"
    },
    "tags": []
   },
   "source": [
    "# Handle data to submit"
   ]
  },
  {
   "cell_type": "code",
   "execution_count": 6,
   "id": "cb745a79",
   "metadata": {
    "execution": {
     "iopub.execute_input": "2024-12-04T10:24:16.501735Z",
     "iopub.status.busy": "2024-12-04T10:24:16.501356Z",
     "iopub.status.idle": "2024-12-04T10:24:16.506338Z",
     "shell.execute_reply": "2024-12-04T10:24:16.505315Z"
    },
    "papermill": {
     "duration": 0.011227,
     "end_time": "2024-12-04T10:24:16.508456",
     "exception": false,
     "start_time": "2024-12-04T10:24:16.497229",
     "status": "completed"
    },
    "tags": []
   },
   "outputs": [],
   "source": [
    "\n",
    "# len(data_test.columns)\n",
    "# index = data_test['id']\n",
    "# data_test = data_test.drop(columns=['id'])\n",
    "# data_test = handle_data_classifier(data_test)\n",
    "# ans = model.predict(data_test)\n",
    "# series = pd.Series(ans)\n",
    "# concatenated_dataframe = pd.concat([index, series], axis=1)\n",
    "# concatenated_dataframe = pd.DataFrame(concatenated_dataframe)\n",
    "# concatenated_dataframe = concatenated_dataframe.rename(columns = {0 : 'sii'})\n",
    "# concatenated_dataframe"
   ]
  },
  {
   "cell_type": "code",
   "execution_count": 7,
   "id": "addb7c13",
   "metadata": {
    "execution": {
     "iopub.execute_input": "2024-12-04T10:24:16.516300Z",
     "iopub.status.busy": "2024-12-04T10:24:16.515896Z",
     "iopub.status.idle": "2024-12-04T10:24:21.081279Z",
     "shell.execute_reply": "2024-12-04T10:24:21.080130Z"
    },
    "papermill": {
     "duration": 4.572581,
     "end_time": "2024-12-04T10:24:21.084207",
     "exception": false,
     "start_time": "2024-12-04T10:24:16.511626",
     "status": "completed"
    },
    "tags": []
   },
   "outputs": [
    {
     "name": "stdout",
     "output_type": "stream",
     "text": [
      "58\n",
      "[1594  730  378   34]\n",
      "[1594 1594 1594 1594]\n"
     ]
    },
    {
     "name": "stderr",
     "output_type": "stream",
     "text": [
      "/opt/conda/lib/python3.10/site-packages/sklearn/cluster/_kmeans.py:870: FutureWarning: The default value of `n_init` will change from 10 to 'auto' in 1.4. Set the value of `n_init` explicitly to suppress the warning\n",
      "  warnings.warn(\n"
     ]
    },
    {
     "name": "stdout",
     "output_type": "stream",
     "text": [
      "[ 584 1124  576 2816]\n",
      "[False False False ... False False False]\n",
      "0   [298 162  81  43]\n",
      "[False  True  True ... False False  True]\n",
      "1   [519 343 193  69]\n",
      "[False False False ... False False False]\n",
      "2   [259 155 142  20]\n",
      "[ True False False ...  True  True False]\n",
      "3   [ 172  637  859 1148]\n",
      "[0, 0, 0, 3]\n",
      "Accuracy: 0.44357366771159873\n"
     ]
    },
    {
     "name": "stderr",
     "output_type": "stream",
     "text": [
      "/opt/conda/lib/python3.10/site-packages/sklearn/base.py:432: UserWarning: X has feature names, but KMeans was fitted without feature names\n",
      "  warnings.warn(\n"
     ]
    },
    {
     "data": {
      "text/html": [
       "<div>\n",
       "<style scoped>\n",
       "    .dataframe tbody tr th:only-of-type {\n",
       "        vertical-align: middle;\n",
       "    }\n",
       "\n",
       "    .dataframe tbody tr th {\n",
       "        vertical-align: top;\n",
       "    }\n",
       "\n",
       "    .dataframe thead th {\n",
       "        text-align: right;\n",
       "    }\n",
       "</style>\n",
       "<table border=\"1\" class=\"dataframe\">\n",
       "  <thead>\n",
       "    <tr style=\"text-align: right;\">\n",
       "      <th></th>\n",
       "      <th>id</th>\n",
       "      <th>sii</th>\n",
       "    </tr>\n",
       "  </thead>\n",
       "  <tbody>\n",
       "    <tr>\n",
       "      <th>0</th>\n",
       "      <td>00008ff9</td>\n",
       "      <td>3</td>\n",
       "    </tr>\n",
       "    <tr>\n",
       "      <th>1</th>\n",
       "      <td>000fd460</td>\n",
       "      <td>3</td>\n",
       "    </tr>\n",
       "    <tr>\n",
       "      <th>2</th>\n",
       "      <td>00105258</td>\n",
       "      <td>3</td>\n",
       "    </tr>\n",
       "    <tr>\n",
       "      <th>3</th>\n",
       "      <td>00115b9f</td>\n",
       "      <td>3</td>\n",
       "    </tr>\n",
       "    <tr>\n",
       "      <th>4</th>\n",
       "      <td>0016bb22</td>\n",
       "      <td>3</td>\n",
       "    </tr>\n",
       "    <tr>\n",
       "      <th>5</th>\n",
       "      <td>001f3379</td>\n",
       "      <td>3</td>\n",
       "    </tr>\n",
       "    <tr>\n",
       "      <th>6</th>\n",
       "      <td>0038ba98</td>\n",
       "      <td>3</td>\n",
       "    </tr>\n",
       "    <tr>\n",
       "      <th>7</th>\n",
       "      <td>0068a485</td>\n",
       "      <td>3</td>\n",
       "    </tr>\n",
       "    <tr>\n",
       "      <th>8</th>\n",
       "      <td>0069fbed</td>\n",
       "      <td>3</td>\n",
       "    </tr>\n",
       "    <tr>\n",
       "      <th>9</th>\n",
       "      <td>0083e397</td>\n",
       "      <td>3</td>\n",
       "    </tr>\n",
       "    <tr>\n",
       "      <th>10</th>\n",
       "      <td>0087dd65</td>\n",
       "      <td>3</td>\n",
       "    </tr>\n",
       "    <tr>\n",
       "      <th>11</th>\n",
       "      <td>00abe655</td>\n",
       "      <td>3</td>\n",
       "    </tr>\n",
       "    <tr>\n",
       "      <th>12</th>\n",
       "      <td>00ae59c9</td>\n",
       "      <td>3</td>\n",
       "    </tr>\n",
       "    <tr>\n",
       "      <th>13</th>\n",
       "      <td>00af6387</td>\n",
       "      <td>3</td>\n",
       "    </tr>\n",
       "    <tr>\n",
       "      <th>14</th>\n",
       "      <td>00bd4359</td>\n",
       "      <td>3</td>\n",
       "    </tr>\n",
       "    <tr>\n",
       "      <th>15</th>\n",
       "      <td>00c0cd71</td>\n",
       "      <td>3</td>\n",
       "    </tr>\n",
       "    <tr>\n",
       "      <th>16</th>\n",
       "      <td>00d56d4b</td>\n",
       "      <td>3</td>\n",
       "    </tr>\n",
       "    <tr>\n",
       "      <th>17</th>\n",
       "      <td>00d9913d</td>\n",
       "      <td>3</td>\n",
       "    </tr>\n",
       "    <tr>\n",
       "      <th>18</th>\n",
       "      <td>00e6167c</td>\n",
       "      <td>3</td>\n",
       "    </tr>\n",
       "    <tr>\n",
       "      <th>19</th>\n",
       "      <td>00ebc35d</td>\n",
       "      <td>3</td>\n",
       "    </tr>\n",
       "  </tbody>\n",
       "</table>\n",
       "</div>"
      ],
      "text/plain": [
       "          id  sii\n",
       "0   00008ff9    3\n",
       "1   000fd460    3\n",
       "2   00105258    3\n",
       "3   00115b9f    3\n",
       "4   0016bb22    3\n",
       "5   001f3379    3\n",
       "6   0038ba98    3\n",
       "7   0068a485    3\n",
       "8   0069fbed    3\n",
       "9   0083e397    3\n",
       "10  0087dd65    3\n",
       "11  00abe655    3\n",
       "12  00ae59c9    3\n",
       "13  00af6387    3\n",
       "14  00bd4359    3\n",
       "15  00c0cd71    3\n",
       "16  00d56d4b    3\n",
       "17  00d9913d    3\n",
       "18  00e6167c    3\n",
       "19  00ebc35d    3"
      ]
     },
     "execution_count": 7,
     "metadata": {},
     "output_type": "execute_result"
    }
   ],
   "source": [
    "import pandas as pd\n",
    "import numpy as np\n",
    "\n",
    "from sklearn.metrics import accuracy_score\n",
    "from sklearn.preprocessing import MinMaxScaler\n",
    "from imblearn.over_sampling import SMOTE\n",
    "\n",
    "root_path = '/kaggle/input/child-mind-institute-problematic-internet-use/'\n",
    "data_train = pd.read_csv(f'{root_path}/train.csv')\n",
    "data_test = pd.read_csv(f'{root_path}/test.csv')\n",
    "\n",
    "# print(data_test.columns)\n",
    "same_columns = list(set(data_train.columns).intersection(set(data_test.columns)))\n",
    "same_columns.remove('id')\n",
    "# # drop row which dont have sii\n",
    "data_train = data_train[~data_train['sii'].isna()]\n",
    "# # print(data_train.columns)\n",
    "data_train = data_train.drop(columns=['id'])\n",
    "data_X = data_train[same_columns]\n",
    "data_y = data_train['sii']\n",
    "print(len(data_X.columns))\n",
    "\n",
    "def handle_data_classifier(data) :\n",
    "    encoded_data = data.copy()\n",
    "    all_seasons = ['Spring', 'Summer', 'Fall', 'Winter']\n",
    "\n",
    "    season_cols = encoded_data.select_dtypes(include=['object', 'category']).columns\n",
    "    numeric_cols = encoded_data.select_dtypes(include=['int64', 'float64']).columns\n",
    "\n",
    "    for col in numeric_cols:\n",
    "        encoded_data.fillna({col : encoded_data[col].mean()}, inplace=True)\n",
    "\n",
    "    for col in season_cols:\n",
    "        one_hot = pd.get_dummies(encoded_data[col], prefix=col, dtype=int)\n",
    "        one_hot = one_hot.reindex(columns=[f\"{col}_{season}\" for season in all_seasons], fill_value=0)\n",
    "        encoded_data = pd.concat([encoded_data, one_hot], axis=1)\n",
    "        encoded_data = encoded_data.drop(columns=[col])\n",
    "\n",
    "    return encoded_data\n",
    "\n",
    "data_X = handle_data_classifier(data_X)\n",
    "\n",
    "print(np.bincount(data_y))\n",
    "\n",
    "smote = SMOTE(random_state=42)\n",
    "X_train_resampled, y_train_resampled = smote.fit_resample(data_X, data_y)\n",
    "\n",
    "print(np.bincount(y_train_resampled))\n",
    "\n",
    "from sklearn.model_selection import train_test_split\n",
    "X_train, X_test, y_train, y_test = train_test_split(X_train_resampled, y_train_resampled, test_size=0.2, random_state=42)\n",
    "\n",
    "from sklearn.cluster import KMeans\n",
    "\n",
    "scaler = MinMaxScaler()\n",
    "scaler.fit(X_train)\n",
    "X_train = scaler.transform(X_train)\n",
    "X_test = scaler.transform(X_test)\n",
    "\n",
    "kmeans = KMeans(n_clusters=4, random_state=42)\n",
    "clusters = kmeans.fit_predict(X_train)\n",
    "print(np.bincount(clusters))\n",
    "\n",
    "cluster_labels = []\n",
    "for i in range(4):  # Loop over each cluster\n",
    "    cluster_mask = (clusters == i)\n",
    "    print(clusters == i)\n",
    "    print(i, \" \", np.bincount(y_train[cluster_mask]))\n",
    "    most_common_label = np.bincount(y_train[cluster_mask]).argmax()\n",
    "    cluster_labels.append(most_common_label)\n",
    "\n",
    "print(cluster_labels)\n",
    "\n",
    "new_clusters = kmeans.predict(X_test)\n",
    "y_pred = np.array([cluster_labels[cluster] for cluster in new_clusters])\n",
    "\n",
    "print(\"Accuracy:\", accuracy_score(y_test, y_pred))\n",
    "\n",
    "len(data_test.columns)\n",
    "index = data_test['id']\n",
    "data_test = data_test.drop(columns=['id'])\n",
    "data_test = handle_data_classifier(data_test)\n",
    "ans = kmeans.predict(data_test)\n",
    "series = pd.Series(ans)\n",
    "concatenated_dataframe = pd.concat([index, series], axis=1)\n",
    "concatenated_dataframe = pd.DataFrame(concatenated_dataframe)\n",
    "concatenated_dataframe = concatenated_dataframe.rename(columns = {0 : 'sii'})\n",
    "concatenated_dataframe"
   ]
  },
  {
   "cell_type": "code",
   "execution_count": 8,
   "id": "d6309e10",
   "metadata": {
    "execution": {
     "iopub.execute_input": "2024-12-04T10:24:21.094422Z",
     "iopub.status.busy": "2024-12-04T10:24:21.094045Z",
     "iopub.status.idle": "2024-12-04T10:24:21.103078Z",
     "shell.execute_reply": "2024-12-04T10:24:21.102185Z"
    },
    "papermill": {
     "duration": 0.015985,
     "end_time": "2024-12-04T10:24:21.105077",
     "exception": false,
     "start_time": "2024-12-04T10:24:21.089092",
     "status": "completed"
    },
    "tags": []
   },
   "outputs": [],
   "source": [
    "concatenated_dataframe['sii'] = concatenated_dataframe['sii'].astype('int')\n",
    "concatenated_dataframe.to_csv('/kaggle/working/submission.csv',index  = False)"
   ]
  }
 ],
 "metadata": {
  "kaggle": {
   "accelerator": "none",
   "dataSources": [
    {
     "databundleVersionId": 9643020,
     "sourceId": 81933,
     "sourceType": "competition"
    }
   ],
   "dockerImageVersionId": 30786,
   "isGpuEnabled": false,
   "isInternetEnabled": false,
   "language": "python",
   "sourceType": "notebook"
  },
  "kernelspec": {
   "display_name": "Python 3",
   "language": "python",
   "name": "python3"
  },
  "language_info": {
   "codemirror_mode": {
    "name": "ipython",
    "version": 3
   },
   "file_extension": ".py",
   "mimetype": "text/x-python",
   "name": "python",
   "nbconvert_exporter": "python",
   "pygments_lexer": "ipython3",
   "version": "3.10.14"
  },
  "papermill": {
   "default_parameters": {},
   "duration": 8.004711,
   "end_time": "2024-12-04T10:24:21.728984",
   "environment_variables": {},
   "exception": null,
   "input_path": "__notebook__.ipynb",
   "output_path": "__notebook__.ipynb",
   "parameters": {},
   "start_time": "2024-12-04T10:24:13.724273",
   "version": "2.6.0"
  }
 },
 "nbformat": 4,
 "nbformat_minor": 5
}
