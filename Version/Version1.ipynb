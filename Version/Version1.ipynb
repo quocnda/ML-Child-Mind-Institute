{
 "cells": [
  {
   "cell_type": "markdown",
   "id": "e139da98",
   "metadata": {
    "papermill": {
     "duration": 0.004482,
     "end_time": "2024-12-02T12:30:05.136669",
     "exception": false,
     "start_time": "2024-12-02T12:30:05.132187",
     "status": "completed"
    },
    "tags": []
   },
   "source": [
    "# Initial\n"
   ]
  },
  {
   "cell_type": "code",
   "execution_count": 1,
   "id": "a2976c71",
   "metadata": {
    "execution": {
     "iopub.execute_input": "2024-12-02T12:30:05.145335Z",
     "iopub.status.busy": "2024-12-02T12:30:05.144595Z",
     "iopub.status.idle": "2024-12-02T12:30:06.186535Z",
     "shell.execute_reply": "2024-12-02T12:30:06.185177Z"
    },
    "papermill": {
     "duration": 1.049063,
     "end_time": "2024-12-02T12:30:06.189124",
     "exception": false,
     "start_time": "2024-12-02T12:30:05.140061",
     "status": "completed"
    },
    "tags": []
   },
   "outputs": [],
   "source": [
    "import pandas as pd\n",
    "\n",
    "root_path = '/kaggle/input/child-mind-institute-problematic-internet-use/'\n",
    "data_train = pd.read_csv(f'{root_path}/train.csv')\n",
    "data_test = pd.read_csv(f'{root_path}/test.csv')\n",
    "\n"
   ]
  },
  {
   "cell_type": "markdown",
   "id": "0e6cd9ea",
   "metadata": {
    "papermill": {
     "duration": 0.002586,
     "end_time": "2024-12-02T12:30:06.194759",
     "exception": false,
     "start_time": "2024-12-02T12:30:06.192173",
     "status": "completed"
    },
    "tags": []
   },
   "source": [
    "# Data Preprocessing"
   ]
  },
  {
   "cell_type": "code",
   "execution_count": 2,
   "id": "04cc467b",
   "metadata": {
    "execution": {
     "iopub.execute_input": "2024-12-02T12:30:06.202384Z",
     "iopub.status.busy": "2024-12-02T12:30:06.201479Z",
     "iopub.status.idle": "2024-12-02T12:30:07.600510Z",
     "shell.execute_reply": "2024-12-02T12:30:07.599324Z"
    },
    "papermill": {
     "duration": 1.406116,
     "end_time": "2024-12-02T12:30:07.603571",
     "exception": false,
     "start_time": "2024-12-02T12:30:06.197455",
     "status": "completed"
    },
    "tags": []
   },
   "outputs": [],
   "source": [
    "from sklearn.preprocessing import LabelEncoder\n",
    "def handle_data_classifier(data):\n",
    "    df_encoded = data.copy()\n",
    "    for column in df_encoded.columns:\n",
    "        if df_encoded[column].dtype == 'object' or df_encoded[column].dtype.name == 'category':\n",
    "            le = LabelEncoder()\n",
    "            df_encoded[column] = le.fit_transform(df_encoded[column].astype(str))\n",
    "        if df_encoded[column].dtype in ['int64', 'float64']: \n",
    "            df_encoded[column].fillna(df_encoded[column].mean(), inplace=True)\n",
    "    return df_encoded"
   ]
  },
  {
   "cell_type": "code",
   "execution_count": 3,
   "id": "086a3b44",
   "metadata": {
    "execution": {
     "iopub.execute_input": "2024-12-02T12:30:07.611232Z",
     "iopub.status.busy": "2024-12-02T12:30:07.610675Z",
     "iopub.status.idle": "2024-12-02T12:30:07.677373Z",
     "shell.execute_reply": "2024-12-02T12:30:07.676123Z"
    },
    "papermill": {
     "duration": 0.074409,
     "end_time": "2024-12-02T12:30:07.680987",
     "exception": false,
     "start_time": "2024-12-02T12:30:07.606578",
     "status": "completed"
    },
    "tags": []
   },
   "outputs": [
    {
     "name": "stdout",
     "output_type": "stream",
     "text": [
      "Index(['id', 'Basic_Demos-Enroll_Season', 'Basic_Demos-Age', 'Basic_Demos-Sex',\n",
      "       'CGAS-Season', 'CGAS-CGAS_Score', 'Physical-Season', 'Physical-BMI',\n",
      "       'Physical-Height', 'Physical-Weight', 'Physical-Waist_Circumference',\n",
      "       'Physical-Diastolic_BP', 'Physical-HeartRate', 'Physical-Systolic_BP',\n",
      "       'Fitness_Endurance-Season', 'Fitness_Endurance-Max_Stage',\n",
      "       'Fitness_Endurance-Time_Mins', 'Fitness_Endurance-Time_Sec',\n",
      "       'FGC-Season', 'FGC-FGC_CU', 'FGC-FGC_CU_Zone', 'FGC-FGC_GSND',\n",
      "       'FGC-FGC_GSND_Zone', 'FGC-FGC_GSD', 'FGC-FGC_GSD_Zone', 'FGC-FGC_PU',\n",
      "       'FGC-FGC_PU_Zone', 'FGC-FGC_SRL', 'FGC-FGC_SRL_Zone', 'FGC-FGC_SRR',\n",
      "       'FGC-FGC_SRR_Zone', 'FGC-FGC_TL', 'FGC-FGC_TL_Zone', 'BIA-Season',\n",
      "       'BIA-BIA_Activity_Level_num', 'BIA-BIA_BMC', 'BIA-BIA_BMI',\n",
      "       'BIA-BIA_BMR', 'BIA-BIA_DEE', 'BIA-BIA_ECW', 'BIA-BIA_FFM',\n",
      "       'BIA-BIA_FFMI', 'BIA-BIA_FMI', 'BIA-BIA_Fat', 'BIA-BIA_Frame_num',\n",
      "       'BIA-BIA_ICW', 'BIA-BIA_LDM', 'BIA-BIA_LST', 'BIA-BIA_SMM',\n",
      "       'BIA-BIA_TBW', 'PAQ_A-Season', 'PAQ_A-PAQ_A_Total', 'PAQ_C-Season',\n",
      "       'PAQ_C-PAQ_C_Total', 'SDS-Season', 'SDS-SDS_Total_Raw',\n",
      "       'SDS-SDS_Total_T', 'PreInt_EduHx-Season',\n",
      "       'PreInt_EduHx-computerinternet_hoursday'],\n",
      "      dtype='object')\n",
      "Index(['id', 'Basic_Demos-Enroll_Season', 'Basic_Demos-Age', 'Basic_Demos-Sex',\n",
      "       'CGAS-Season', 'CGAS-CGAS_Score', 'Physical-Season', 'Physical-BMI',\n",
      "       'Physical-Height', 'Physical-Weight', 'Physical-Waist_Circumference',\n",
      "       'Physical-Diastolic_BP', 'Physical-HeartRate', 'Physical-Systolic_BP',\n",
      "       'Fitness_Endurance-Season', 'Fitness_Endurance-Max_Stage',\n",
      "       'Fitness_Endurance-Time_Mins', 'Fitness_Endurance-Time_Sec',\n",
      "       'FGC-Season', 'FGC-FGC_CU', 'FGC-FGC_CU_Zone', 'FGC-FGC_GSND',\n",
      "       'FGC-FGC_GSND_Zone', 'FGC-FGC_GSD', 'FGC-FGC_GSD_Zone', 'FGC-FGC_PU',\n",
      "       'FGC-FGC_PU_Zone', 'FGC-FGC_SRL', 'FGC-FGC_SRL_Zone', 'FGC-FGC_SRR',\n",
      "       'FGC-FGC_SRR_Zone', 'FGC-FGC_TL', 'FGC-FGC_TL_Zone', 'BIA-Season',\n",
      "       'BIA-BIA_Activity_Level_num', 'BIA-BIA_BMC', 'BIA-BIA_BMI',\n",
      "       'BIA-BIA_BMR', 'BIA-BIA_DEE', 'BIA-BIA_ECW', 'BIA-BIA_FFM',\n",
      "       'BIA-BIA_FFMI', 'BIA-BIA_FMI', 'BIA-BIA_Fat', 'BIA-BIA_Frame_num',\n",
      "       'BIA-BIA_ICW', 'BIA-BIA_LDM', 'BIA-BIA_LST', 'BIA-BIA_SMM',\n",
      "       'BIA-BIA_TBW', 'PAQ_A-Season', 'PAQ_A-PAQ_A_Total', 'PAQ_C-Season',\n",
      "       'PAQ_C-PAQ_C_Total', 'PCIAT-Season', 'PCIAT-PCIAT_01', 'PCIAT-PCIAT_02',\n",
      "       'PCIAT-PCIAT_03', 'PCIAT-PCIAT_04', 'PCIAT-PCIAT_05', 'PCIAT-PCIAT_06',\n",
      "       'PCIAT-PCIAT_07', 'PCIAT-PCIAT_08', 'PCIAT-PCIAT_09', 'PCIAT-PCIAT_10',\n",
      "       'PCIAT-PCIAT_11', 'PCIAT-PCIAT_12', 'PCIAT-PCIAT_13', 'PCIAT-PCIAT_14',\n",
      "       'PCIAT-PCIAT_15', 'PCIAT-PCIAT_16', 'PCIAT-PCIAT_17', 'PCIAT-PCIAT_18',\n",
      "       'PCIAT-PCIAT_19', 'PCIAT-PCIAT_20', 'PCIAT-PCIAT_Total', 'SDS-Season',\n",
      "       'SDS-SDS_Total_Raw', 'SDS-SDS_Total_T', 'PreInt_EduHx-Season',\n",
      "       'PreInt_EduHx-computerinternet_hoursday', 'sii'],\n",
      "      dtype='object')\n",
      "58\n"
     ]
    },
    {
     "name": "stderr",
     "output_type": "stream",
     "text": [
      "/tmp/ipykernel_17/2128950070.py:9: FutureWarning: A value is trying to be set on a copy of a DataFrame or Series through chained assignment using an inplace method.\n",
      "The behavior will change in pandas 3.0. This inplace method will never work because the intermediate object on which we are setting values always behaves as a copy.\n",
      "\n",
      "For example, when doing 'df[col].method(value, inplace=True)', try using 'df.method({col: value}, inplace=True)' or df[col] = df[col].method(value) instead, to perform the operation inplace on the original object.\n",
      "\n",
      "\n",
      "  df_encoded[column].fillna(df_encoded[column].mean(), inplace=True)\n",
      "/tmp/ipykernel_17/2128950070.py:9: FutureWarning: A value is trying to be set on a copy of a DataFrame or Series through chained assignment using an inplace method.\n",
      "The behavior will change in pandas 3.0. This inplace method will never work because the intermediate object on which we are setting values always behaves as a copy.\n",
      "\n",
      "For example, when doing 'df[col].method(value, inplace=True)', try using 'df.method({col: value}, inplace=True)' or df[col] = df[col].method(value) instead, to perform the operation inplace on the original object.\n",
      "\n",
      "\n",
      "  df_encoded[column].fillna(df_encoded[column].mean(), inplace=True)\n",
      "/tmp/ipykernel_17/2128950070.py:9: FutureWarning: A value is trying to be set on a copy of a DataFrame or Series through chained assignment using an inplace method.\n",
      "The behavior will change in pandas 3.0. This inplace method will never work because the intermediate object on which we are setting values always behaves as a copy.\n",
      "\n",
      "For example, when doing 'df[col].method(value, inplace=True)', try using 'df.method({col: value}, inplace=True)' or df[col] = df[col].method(value) instead, to perform the operation inplace on the original object.\n",
      "\n",
      "\n",
      "  df_encoded[column].fillna(df_encoded[column].mean(), inplace=True)\n",
      "/tmp/ipykernel_17/2128950070.py:9: FutureWarning: A value is trying to be set on a copy of a DataFrame or Series through chained assignment using an inplace method.\n",
      "The behavior will change in pandas 3.0. This inplace method will never work because the intermediate object on which we are setting values always behaves as a copy.\n",
      "\n",
      "For example, when doing 'df[col].method(value, inplace=True)', try using 'df.method({col: value}, inplace=True)' or df[col] = df[col].method(value) instead, to perform the operation inplace on the original object.\n",
      "\n",
      "\n",
      "  df_encoded[column].fillna(df_encoded[column].mean(), inplace=True)\n",
      "/tmp/ipykernel_17/2128950070.py:9: FutureWarning: A value is trying to be set on a copy of a DataFrame or Series through chained assignment using an inplace method.\n",
      "The behavior will change in pandas 3.0. This inplace method will never work because the intermediate object on which we are setting values always behaves as a copy.\n",
      "\n",
      "For example, when doing 'df[col].method(value, inplace=True)', try using 'df.method({col: value}, inplace=True)' or df[col] = df[col].method(value) instead, to perform the operation inplace on the original object.\n",
      "\n",
      "\n",
      "  df_encoded[column].fillna(df_encoded[column].mean(), inplace=True)\n",
      "/tmp/ipykernel_17/2128950070.py:9: FutureWarning: A value is trying to be set on a copy of a DataFrame or Series through chained assignment using an inplace method.\n",
      "The behavior will change in pandas 3.0. This inplace method will never work because the intermediate object on which we are setting values always behaves as a copy.\n",
      "\n",
      "For example, when doing 'df[col].method(value, inplace=True)', try using 'df.method({col: value}, inplace=True)' or df[col] = df[col].method(value) instead, to perform the operation inplace on the original object.\n",
      "\n",
      "\n",
      "  df_encoded[column].fillna(df_encoded[column].mean(), inplace=True)\n",
      "/tmp/ipykernel_17/2128950070.py:9: FutureWarning: A value is trying to be set on a copy of a DataFrame or Series through chained assignment using an inplace method.\n",
      "The behavior will change in pandas 3.0. This inplace method will never work because the intermediate object on which we are setting values always behaves as a copy.\n",
      "\n",
      "For example, when doing 'df[col].method(value, inplace=True)', try using 'df.method({col: value}, inplace=True)' or df[col] = df[col].method(value) instead, to perform the operation inplace on the original object.\n",
      "\n",
      "\n",
      "  df_encoded[column].fillna(df_encoded[column].mean(), inplace=True)\n",
      "/tmp/ipykernel_17/2128950070.py:9: FutureWarning: A value is trying to be set on a copy of a DataFrame or Series through chained assignment using an inplace method.\n",
      "The behavior will change in pandas 3.0. This inplace method will never work because the intermediate object on which we are setting values always behaves as a copy.\n",
      "\n",
      "For example, when doing 'df[col].method(value, inplace=True)', try using 'df.method({col: value}, inplace=True)' or df[col] = df[col].method(value) instead, to perform the operation inplace on the original object.\n",
      "\n",
      "\n",
      "  df_encoded[column].fillna(df_encoded[column].mean(), inplace=True)\n",
      "/tmp/ipykernel_17/2128950070.py:9: FutureWarning: A value is trying to be set on a copy of a DataFrame or Series through chained assignment using an inplace method.\n",
      "The behavior will change in pandas 3.0. This inplace method will never work because the intermediate object on which we are setting values always behaves as a copy.\n",
      "\n",
      "For example, when doing 'df[col].method(value, inplace=True)', try using 'df.method({col: value}, inplace=True)' or df[col] = df[col].method(value) instead, to perform the operation inplace on the original object.\n",
      "\n",
      "\n",
      "  df_encoded[column].fillna(df_encoded[column].mean(), inplace=True)\n",
      "/tmp/ipykernel_17/2128950070.py:9: FutureWarning: A value is trying to be set on a copy of a DataFrame or Series through chained assignment using an inplace method.\n",
      "The behavior will change in pandas 3.0. This inplace method will never work because the intermediate object on which we are setting values always behaves as a copy.\n",
      "\n",
      "For example, when doing 'df[col].method(value, inplace=True)', try using 'df.method({col: value}, inplace=True)' or df[col] = df[col].method(value) instead, to perform the operation inplace on the original object.\n",
      "\n",
      "\n",
      "  df_encoded[column].fillna(df_encoded[column].mean(), inplace=True)\n"
     ]
    }
   ],
   "source": [
    "print(data_test.columns)\n",
    "same_columns = list(set(data_train.columns).intersection(set(data_test.columns)))\n",
    "same_columns.remove('id')\n",
    "# drop row which dont have sii\n",
    "data_train = data_train[~data_train['sii'].isna()]\n",
    "print(data_train.columns)\n",
    "data_train = data_train.drop(columns=['id'])\n",
    "data_X = data_train[same_columns]\n",
    "data_y = data_train['sii']\n",
    "print(len(data_X.columns))\n",
    "# handle data which category type and Nan value\n",
    "data_X = handle_data_classifier(data_X)\n",
    "\n"
   ]
  },
  {
   "cell_type": "markdown",
   "id": "6664994d",
   "metadata": {
    "papermill": {
     "duration": 0.003073,
     "end_time": "2024-12-02T12:30:07.687638",
     "exception": false,
     "start_time": "2024-12-02T12:30:07.684565",
     "status": "completed"
    },
    "tags": []
   },
   "source": [
    "# Train and test model"
   ]
  },
  {
   "cell_type": "code",
   "execution_count": 4,
   "id": "9e716dc8",
   "metadata": {
    "execution": {
     "iopub.execute_input": "2024-12-02T12:30:07.696251Z",
     "iopub.status.busy": "2024-12-02T12:30:07.695847Z",
     "iopub.status.idle": "2024-12-02T12:30:07.829174Z",
     "shell.execute_reply": "2024-12-02T12:30:07.827644Z"
    },
    "papermill": {
     "duration": 0.14027,
     "end_time": "2024-12-02T12:30:07.831628",
     "exception": false,
     "start_time": "2024-12-02T12:30:07.691358",
     "status": "completed"
    },
    "tags": []
   },
   "outputs": [],
   "source": [
    "from sklearn.model_selection import train_test_split\n",
    "X_train, X_test, y_train, y_test = train_test_split(data_X, data_y, test_size=0.2, random_state=42)\n",
    "# X_train.columns"
   ]
  },
  {
   "cell_type": "code",
   "execution_count": 5,
   "id": "d2e27ee8",
   "metadata": {
    "execution": {
     "iopub.execute_input": "2024-12-02T12:30:07.840428Z",
     "iopub.status.busy": "2024-12-02T12:30:07.840038Z",
     "iopub.status.idle": "2024-12-02T12:30:09.071244Z",
     "shell.execute_reply": "2024-12-02T12:30:09.070040Z"
    },
    "papermill": {
     "duration": 1.238779,
     "end_time": "2024-12-02T12:30:09.073842",
     "exception": false,
     "start_time": "2024-12-02T12:30:07.835063",
     "status": "completed"
    },
    "tags": []
   },
   "outputs": [
    {
     "name": "stdout",
     "output_type": "stream",
     "text": [
      "Accuracy: 0.6167883211678832\n"
     ]
    }
   ],
   "source": [
    "from sklearn.ensemble import RandomForestClassifier\n",
    "from sklearn.metrics import accuracy_score\n",
    "from sklearn.preprocessing import MinMaxScaler\n",
    "\n",
    "scaler = MinMaxScaler()\n",
    "scaler.fit(X_train)\n",
    "X_train = scaler.transform(X_train)\n",
    "X_test = scaler.transform(X_test)\n",
    "model = RandomForestClassifier()\n",
    "model.fit(X_train, y_train)\n",
    "\n",
    "# Dự đoán và đánh giá\n",
    "y_pred = model.predict(X_test)\n",
    "print(\"Accuracy:\", accuracy_score(y_test, y_pred))"
   ]
  },
  {
   "cell_type": "markdown",
   "id": "3cb221e2",
   "metadata": {
    "papermill": {
     "duration": 0.003049,
     "end_time": "2024-12-02T12:30:09.080302",
     "exception": false,
     "start_time": "2024-12-02T12:30:09.077253",
     "status": "completed"
    },
    "tags": []
   },
   "source": [
    "# Handle data to submit"
   ]
  },
  {
   "cell_type": "code",
   "execution_count": 6,
   "id": "84457950",
   "metadata": {
    "execution": {
     "iopub.execute_input": "2024-12-02T12:30:09.088614Z",
     "iopub.status.busy": "2024-12-02T12:30:09.088187Z",
     "iopub.status.idle": "2024-12-02T12:30:09.155553Z",
     "shell.execute_reply": "2024-12-02T12:30:09.154027Z"
    },
    "papermill": {
     "duration": 0.074647,
     "end_time": "2024-12-02T12:30:09.158284",
     "exception": false,
     "start_time": "2024-12-02T12:30:09.083637",
     "status": "completed"
    },
    "tags": []
   },
   "outputs": [
    {
     "name": "stderr",
     "output_type": "stream",
     "text": [
      "/tmp/ipykernel_17/2128950070.py:9: FutureWarning: A value is trying to be set on a copy of a DataFrame or Series through chained assignment using an inplace method.\n",
      "The behavior will change in pandas 3.0. This inplace method will never work because the intermediate object on which we are setting values always behaves as a copy.\n",
      "\n",
      "For example, when doing 'df[col].method(value, inplace=True)', try using 'df.method({col: value}, inplace=True)' or df[col] = df[col].method(value) instead, to perform the operation inplace on the original object.\n",
      "\n",
      "\n",
      "  df_encoded[column].fillna(df_encoded[column].mean(), inplace=True)\n",
      "/tmp/ipykernel_17/2128950070.py:9: FutureWarning: A value is trying to be set on a copy of a DataFrame or Series through chained assignment using an inplace method.\n",
      "The behavior will change in pandas 3.0. This inplace method will never work because the intermediate object on which we are setting values always behaves as a copy.\n",
      "\n",
      "For example, when doing 'df[col].method(value, inplace=True)', try using 'df.method({col: value}, inplace=True)' or df[col] = df[col].method(value) instead, to perform the operation inplace on the original object.\n",
      "\n",
      "\n",
      "  df_encoded[column].fillna(df_encoded[column].mean(), inplace=True)\n",
      "/tmp/ipykernel_17/2128950070.py:9: FutureWarning: A value is trying to be set on a copy of a DataFrame or Series through chained assignment using an inplace method.\n",
      "The behavior will change in pandas 3.0. This inplace method will never work because the intermediate object on which we are setting values always behaves as a copy.\n",
      "\n",
      "For example, when doing 'df[col].method(value, inplace=True)', try using 'df.method({col: value}, inplace=True)' or df[col] = df[col].method(value) instead, to perform the operation inplace on the original object.\n",
      "\n",
      "\n",
      "  df_encoded[column].fillna(df_encoded[column].mean(), inplace=True)\n",
      "/tmp/ipykernel_17/2128950070.py:9: FutureWarning: A value is trying to be set on a copy of a DataFrame or Series through chained assignment using an inplace method.\n",
      "The behavior will change in pandas 3.0. This inplace method will never work because the intermediate object on which we are setting values always behaves as a copy.\n",
      "\n",
      "For example, when doing 'df[col].method(value, inplace=True)', try using 'df.method({col: value}, inplace=True)' or df[col] = df[col].method(value) instead, to perform the operation inplace on the original object.\n",
      "\n",
      "\n",
      "  df_encoded[column].fillna(df_encoded[column].mean(), inplace=True)\n",
      "/tmp/ipykernel_17/2128950070.py:9: FutureWarning: A value is trying to be set on a copy of a DataFrame or Series through chained assignment using an inplace method.\n",
      "The behavior will change in pandas 3.0. This inplace method will never work because the intermediate object on which we are setting values always behaves as a copy.\n",
      "\n",
      "For example, when doing 'df[col].method(value, inplace=True)', try using 'df.method({col: value}, inplace=True)' or df[col] = df[col].method(value) instead, to perform the operation inplace on the original object.\n",
      "\n",
      "\n",
      "  df_encoded[column].fillna(df_encoded[column].mean(), inplace=True)\n",
      "/tmp/ipykernel_17/2128950070.py:9: FutureWarning: A value is trying to be set on a copy of a DataFrame or Series through chained assignment using an inplace method.\n",
      "The behavior will change in pandas 3.0. This inplace method will never work because the intermediate object on which we are setting values always behaves as a copy.\n",
      "\n",
      "For example, when doing 'df[col].method(value, inplace=True)', try using 'df.method({col: value}, inplace=True)' or df[col] = df[col].method(value) instead, to perform the operation inplace on the original object.\n",
      "\n",
      "\n",
      "  df_encoded[column].fillna(df_encoded[column].mean(), inplace=True)\n",
      "/tmp/ipykernel_17/2128950070.py:9: FutureWarning: A value is trying to be set on a copy of a DataFrame or Series through chained assignment using an inplace method.\n",
      "The behavior will change in pandas 3.0. This inplace method will never work because the intermediate object on which we are setting values always behaves as a copy.\n",
      "\n",
      "For example, when doing 'df[col].method(value, inplace=True)', try using 'df.method({col: value}, inplace=True)' or df[col] = df[col].method(value) instead, to perform the operation inplace on the original object.\n",
      "\n",
      "\n",
      "  df_encoded[column].fillna(df_encoded[column].mean(), inplace=True)\n",
      "/tmp/ipykernel_17/2128950070.py:9: FutureWarning: A value is trying to be set on a copy of a DataFrame or Series through chained assignment using an inplace method.\n",
      "The behavior will change in pandas 3.0. This inplace method will never work because the intermediate object on which we are setting values always behaves as a copy.\n",
      "\n",
      "For example, when doing 'df[col].method(value, inplace=True)', try using 'df.method({col: value}, inplace=True)' or df[col] = df[col].method(value) instead, to perform the operation inplace on the original object.\n",
      "\n",
      "\n",
      "  df_encoded[column].fillna(df_encoded[column].mean(), inplace=True)\n",
      "/tmp/ipykernel_17/2128950070.py:9: FutureWarning: A value is trying to be set on a copy of a DataFrame or Series through chained assignment using an inplace method.\n",
      "The behavior will change in pandas 3.0. This inplace method will never work because the intermediate object on which we are setting values always behaves as a copy.\n",
      "\n",
      "For example, when doing 'df[col].method(value, inplace=True)', try using 'df.method({col: value}, inplace=True)' or df[col] = df[col].method(value) instead, to perform the operation inplace on the original object.\n",
      "\n",
      "\n",
      "  df_encoded[column].fillna(df_encoded[column].mean(), inplace=True)\n",
      "/tmp/ipykernel_17/2128950070.py:9: FutureWarning: A value is trying to be set on a copy of a DataFrame or Series through chained assignment using an inplace method.\n",
      "The behavior will change in pandas 3.0. This inplace method will never work because the intermediate object on which we are setting values always behaves as a copy.\n",
      "\n",
      "For example, when doing 'df[col].method(value, inplace=True)', try using 'df.method({col: value}, inplace=True)' or df[col] = df[col].method(value) instead, to perform the operation inplace on the original object.\n",
      "\n",
      "\n",
      "  df_encoded[column].fillna(df_encoded[column].mean(), inplace=True)\n",
      "/opt/conda/lib/python3.10/site-packages/sklearn/base.py:432: UserWarning: X has feature names, but RandomForestClassifier was fitted without feature names\n",
      "  warnings.warn(\n"
     ]
    },
    {
     "data": {
      "text/html": [
       "<div>\n",
       "<style scoped>\n",
       "    .dataframe tbody tr th:only-of-type {\n",
       "        vertical-align: middle;\n",
       "    }\n",
       "\n",
       "    .dataframe tbody tr th {\n",
       "        vertical-align: top;\n",
       "    }\n",
       "\n",
       "    .dataframe thead th {\n",
       "        text-align: right;\n",
       "    }\n",
       "</style>\n",
       "<table border=\"1\" class=\"dataframe\">\n",
       "  <thead>\n",
       "    <tr style=\"text-align: right;\">\n",
       "      <th></th>\n",
       "      <th>id</th>\n",
       "      <th>sii</th>\n",
       "    </tr>\n",
       "  </thead>\n",
       "  <tbody>\n",
       "    <tr>\n",
       "      <th>0</th>\n",
       "      <td>00008ff9</td>\n",
       "      <td>1.0</td>\n",
       "    </tr>\n",
       "    <tr>\n",
       "      <th>1</th>\n",
       "      <td>000fd460</td>\n",
       "      <td>0.0</td>\n",
       "    </tr>\n",
       "    <tr>\n",
       "      <th>2</th>\n",
       "      <td>00105258</td>\n",
       "      <td>1.0</td>\n",
       "    </tr>\n",
       "    <tr>\n",
       "      <th>3</th>\n",
       "      <td>00115b9f</td>\n",
       "      <td>1.0</td>\n",
       "    </tr>\n",
       "    <tr>\n",
       "      <th>4</th>\n",
       "      <td>0016bb22</td>\n",
       "      <td>1.0</td>\n",
       "    </tr>\n",
       "    <tr>\n",
       "      <th>5</th>\n",
       "      <td>001f3379</td>\n",
       "      <td>1.0</td>\n",
       "    </tr>\n",
       "    <tr>\n",
       "      <th>6</th>\n",
       "      <td>0038ba98</td>\n",
       "      <td>1.0</td>\n",
       "    </tr>\n",
       "    <tr>\n",
       "      <th>7</th>\n",
       "      <td>0068a485</td>\n",
       "      <td>0.0</td>\n",
       "    </tr>\n",
       "    <tr>\n",
       "      <th>8</th>\n",
       "      <td>0069fbed</td>\n",
       "      <td>1.0</td>\n",
       "    </tr>\n",
       "    <tr>\n",
       "      <th>9</th>\n",
       "      <td>0083e397</td>\n",
       "      <td>1.0</td>\n",
       "    </tr>\n",
       "    <tr>\n",
       "      <th>10</th>\n",
       "      <td>0087dd65</td>\n",
       "      <td>1.0</td>\n",
       "    </tr>\n",
       "    <tr>\n",
       "      <th>11</th>\n",
       "      <td>00abe655</td>\n",
       "      <td>1.0</td>\n",
       "    </tr>\n",
       "    <tr>\n",
       "      <th>12</th>\n",
       "      <td>00ae59c9</td>\n",
       "      <td>0.0</td>\n",
       "    </tr>\n",
       "    <tr>\n",
       "      <th>13</th>\n",
       "      <td>00af6387</td>\n",
       "      <td>1.0</td>\n",
       "    </tr>\n",
       "    <tr>\n",
       "      <th>14</th>\n",
       "      <td>00bd4359</td>\n",
       "      <td>1.0</td>\n",
       "    </tr>\n",
       "    <tr>\n",
       "      <th>15</th>\n",
       "      <td>00c0cd71</td>\n",
       "      <td>1.0</td>\n",
       "    </tr>\n",
       "    <tr>\n",
       "      <th>16</th>\n",
       "      <td>00d56d4b</td>\n",
       "      <td>1.0</td>\n",
       "    </tr>\n",
       "    <tr>\n",
       "      <th>17</th>\n",
       "      <td>00d9913d</td>\n",
       "      <td>1.0</td>\n",
       "    </tr>\n",
       "    <tr>\n",
       "      <th>18</th>\n",
       "      <td>00e6167c</td>\n",
       "      <td>1.0</td>\n",
       "    </tr>\n",
       "    <tr>\n",
       "      <th>19</th>\n",
       "      <td>00ebc35d</td>\n",
       "      <td>1.0</td>\n",
       "    </tr>\n",
       "  </tbody>\n",
       "</table>\n",
       "</div>"
      ],
      "text/plain": [
       "          id  sii\n",
       "0   00008ff9  1.0\n",
       "1   000fd460  0.0\n",
       "2   00105258  1.0\n",
       "3   00115b9f  1.0\n",
       "4   0016bb22  1.0\n",
       "5   001f3379  1.0\n",
       "6   0038ba98  1.0\n",
       "7   0068a485  0.0\n",
       "8   0069fbed  1.0\n",
       "9   0083e397  1.0\n",
       "10  0087dd65  1.0\n",
       "11  00abe655  1.0\n",
       "12  00ae59c9  0.0\n",
       "13  00af6387  1.0\n",
       "14  00bd4359  1.0\n",
       "15  00c0cd71  1.0\n",
       "16  00d56d4b  1.0\n",
       "17  00d9913d  1.0\n",
       "18  00e6167c  1.0\n",
       "19  00ebc35d  1.0"
      ]
     },
     "execution_count": 6,
     "metadata": {},
     "output_type": "execute_result"
    }
   ],
   "source": [
    "\n",
    "len(data_test.columns)\n",
    "index = data_test['id']\n",
    "data_test = data_test.drop(columns=['id'])\n",
    "data_test = handle_data_classifier(data_test)\n",
    "ans = model.predict(data_test)\n",
    "series = pd.Series(ans)\n",
    "concatenated_dataframe = pd.concat([index, series], axis=1)\n",
    "concatenated_dataframe = pd.DataFrame(concatenated_dataframe)\n",
    "concatenated_dataframe = concatenated_dataframe.rename(columns = {0 : 'sii'})\n",
    "concatenated_dataframe"
   ]
  },
  {
   "cell_type": "code",
   "execution_count": 7,
   "id": "b88ecddf",
   "metadata": {
    "execution": {
     "iopub.execute_input": "2024-12-02T12:30:09.167660Z",
     "iopub.status.busy": "2024-12-02T12:30:09.167301Z",
     "iopub.status.idle": "2024-12-02T12:30:09.177387Z",
     "shell.execute_reply": "2024-12-02T12:30:09.176199Z"
    },
    "papermill": {
     "duration": 0.017826,
     "end_time": "2024-12-02T12:30:09.180052",
     "exception": false,
     "start_time": "2024-12-02T12:30:09.162226",
     "status": "completed"
    },
    "tags": []
   },
   "outputs": [],
   "source": [
    "concatenated_dataframe['sii'] = concatenated_dataframe['sii'].astype('int')\n",
    "concatenated_dataframe.to_csv('/kaggle/working/submission.csv',index  = False)"
   ]
  }
 ],
 "metadata": {
  "kaggle": {
   "accelerator": "none",
   "dataSources": [
    {
     "databundleVersionId": 9643020,
     "sourceId": 81933,
     "sourceType": "competition"
    }
   ],
   "dockerImageVersionId": 30786,
   "isGpuEnabled": false,
   "isInternetEnabled": false,
   "language": "python",
   "sourceType": "notebook"
  },
  "kernelspec": {
   "display_name": "Python 3",
   "language": "python",
   "name": "python3"
  },
  "language_info": {
   "codemirror_mode": {
    "name": "ipython",
    "version": 3
   },
   "file_extension": ".py",
   "mimetype": "text/x-python",
   "name": "python",
   "nbconvert_exporter": "python",
   "pygments_lexer": "ipython3",
   "version": "3.10.14"
  },
  "papermill": {
   "default_parameters": {},
   "duration": 7.587731,
   "end_time": "2024-12-02T12:30:09.908079",
   "environment_variables": {},
   "exception": null,
   "input_path": "__notebook__.ipynb",
   "output_path": "__notebook__.ipynb",
   "parameters": {},
   "start_time": "2024-12-02T12:30:02.320348",
   "version": "2.6.0"
  }
 },
 "nbformat": 4,
 "nbformat_minor": 5
}
